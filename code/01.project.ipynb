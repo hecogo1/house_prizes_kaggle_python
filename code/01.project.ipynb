{
 "cells": [
  {
   "cell_type": "code",
   "execution_count": 32,
   "metadata": {},
   "outputs": [],
   "source": [
    "#packages\n",
    "import pandas as pd\n",
    "import h2o\n",
    "from h2o.automl import H2OAutoML"
   ]
  },
  {
   "cell_type": "code",
   "execution_count": 39,
   "metadata": {},
   "outputs": [
    {
     "data": {
      "text/plain": [
       "1459"
      ]
     },
     "execution_count": 39,
     "metadata": {},
     "output_type": "execute_result"
    }
   ],
   "source": [
    "# loading data\n",
    "train_df = pd.read_csv('../data/train.csv')\n",
    "test_df = pd.read_csv('../data/test.csv')\n",
    "train_df.head()\n",
    "test_df.head()"
   ]
  },
  {
   "cell_type": "code",
   "execution_count": 34,
   "metadata": {},
   "outputs": [
    {
     "name": "stdout",
     "output_type": "stream",
     "text": [
      "Checking whether there is an H2O instance running at http://localhost:54321 ..... not found.\n",
      "Attempting to start a local H2O server...\n",
      "  Java Version: openjdk version \"1.8.0_345\"; OpenJDK Runtime Environment (Zulu 8.64.0.19-CA-macos-aarch64) (build 1.8.0_345-b01); OpenJDK 64-Bit Server VM (Zulu 8.64.0.19-CA-macos-aarch64) (build 25.345-b01, mixed mode)\n",
      "  Starting server from /Users/hectorcozar/Documents/GitHub/house_prizes_kaggle_python/venv/lib/python3.9/site-packages/h2o/backend/bin/h2o.jar\n",
      "  Ice root: /var/folders/yj/nrb4536x26s8lfxkz_6kzf100000gn/T/tmpa2yk9hgv\n",
      "  JVM stdout: /var/folders/yj/nrb4536x26s8lfxkz_6kzf100000gn/T/tmpa2yk9hgv/h2o_hectorcozar_started_from_python.out\n",
      "  JVM stderr: /var/folders/yj/nrb4536x26s8lfxkz_6kzf100000gn/T/tmpa2yk9hgv/h2o_hectorcozar_started_from_python.err\n",
      "  Server is running at http://127.0.0.1:54321\n",
      "Connecting to H2O server at http://127.0.0.1:54321 ... successful.\n",
      "Warning: Your H2O cluster version is too old (2 years, 3 months and 28 days)! Please download and install the latest version from http://h2o.ai/download/\n"
     ]
    },
    {
     "data": {
      "text/html": [
       "<div style=\"overflow:auto\"><table style=\"width:50%\"><tr><td>H2O_cluster_uptime:</td>\n",
       "<td>01 secs</td></tr>\n",
       "<tr><td>H2O_cluster_timezone:</td>\n",
       "<td>Europe/Madrid</td></tr>\n",
       "<tr><td>H2O_data_parsing_timezone:</td>\n",
       "<td>UTC</td></tr>\n",
       "<tr><td>H2O_cluster_version:</td>\n",
       "<td>3.30.0.4</td></tr>\n",
       "<tr><td>H2O_cluster_version_age:</td>\n",
       "<td>2 years, 3 months and 28 days !!!</td></tr>\n",
       "<tr><td>H2O_cluster_name:</td>\n",
       "<td>H2O_from_python_hectorcozar_dq3147</td></tr>\n",
       "<tr><td>H2O_cluster_total_nodes:</td>\n",
       "<td>1</td></tr>\n",
       "<tr><td>H2O_cluster_free_memory:</td>\n",
       "<td>8.89 Gb</td></tr>\n",
       "<tr><td>H2O_cluster_total_cores:</td>\n",
       "<td>10</td></tr>\n",
       "<tr><td>H2O_cluster_allowed_cores:</td>\n",
       "<td>10</td></tr>\n",
       "<tr><td>H2O_cluster_status:</td>\n",
       "<td>accepting new members, healthy</td></tr>\n",
       "<tr><td>H2O_connection_url:</td>\n",
       "<td>http://127.0.0.1:54321</td></tr>\n",
       "<tr><td>H2O_connection_proxy:</td>\n",
       "<td>{\"http\": null, \"https\": null}</td></tr>\n",
       "<tr><td>H2O_internal_security:</td>\n",
       "<td>False</td></tr>\n",
       "<tr><td>H2O_API_Extensions:</td>\n",
       "<td>Amazon S3, Algos, AutoML, Core V3, TargetEncoder, Core V4</td></tr>\n",
       "<tr><td>Python_version:</td>\n",
       "<td>3.9.12 final</td></tr></table></div>"
      ],
      "text/plain": [
       "--------------------------  ---------------------------------------------------------\n",
       "H2O_cluster_uptime:         01 secs\n",
       "H2O_cluster_timezone:       Europe/Madrid\n",
       "H2O_data_parsing_timezone:  UTC\n",
       "H2O_cluster_version:        3.30.0.4\n",
       "H2O_cluster_version_age:    2 years, 3 months and 28 days !!!\n",
       "H2O_cluster_name:           H2O_from_python_hectorcozar_dq3147\n",
       "H2O_cluster_total_nodes:    1\n",
       "H2O_cluster_free_memory:    8.89 Gb\n",
       "H2O_cluster_total_cores:    10\n",
       "H2O_cluster_allowed_cores:  10\n",
       "H2O_cluster_status:         accepting new members, healthy\n",
       "H2O_connection_url:         http://127.0.0.1:54321\n",
       "H2O_connection_proxy:       {\"http\": null, \"https\": null}\n",
       "H2O_internal_security:      False\n",
       "H2O_API_Extensions:         Amazon S3, Algos, AutoML, Core V3, TargetEncoder, Core V4\n",
       "Python_version:             3.9.12 final\n",
       "--------------------------  ---------------------------------------------------------"
      ]
     },
     "metadata": {},
     "output_type": "display_data"
    }
   ],
   "source": [
    "#starting h2o\n",
    "h2o.init(max_mem_size= '10G')"
   ]
  },
  {
   "cell_type": "code",
   "execution_count": 35,
   "metadata": {},
   "outputs": [
    {
     "name": "stdout",
     "output_type": "stream",
     "text": [
      "Parse progress: |█████████████████████████████████████████████████████████| 100%\n",
      "Parse progress: |█████████████████████████████████████████████████████████| 100%\n"
     ]
    }
   ],
   "source": [
    "# loading data as h2o object\n",
    "df = h2o.import_file(path = '../data/train.csv')\n",
    "df_sample = h2o.import_file(path = '../data/test.csv')\n"
   ]
  },
  {
   "cell_type": "code",
   "execution_count": 36,
   "metadata": {},
   "outputs": [
    {
     "data": {
      "text/html": [
       "<table>\n",
       "<thead>\n",
       "<tr><th style=\"text-align: right;\">  Id</th><th style=\"text-align: right;\">  MSSubClass</th><th>MSZoning  </th><th style=\"text-align: right;\">  LotFrontage</th><th style=\"text-align: right;\">  LotArea</th><th>Street  </th><th>Alley  </th><th>LotShape  </th><th>LandContour  </th><th>Utilities  </th><th>LotConfig  </th><th>LandSlope  </th><th>Neighborhood  </th><th>Condition1  </th><th>Condition2  </th><th>BldgType  </th><th>HouseStyle  </th><th style=\"text-align: right;\">  OverallQual</th><th style=\"text-align: right;\">  OverallCond</th><th style=\"text-align: right;\">  YearBuilt</th><th style=\"text-align: right;\">  YearRemodAdd</th><th>RoofStyle  </th><th>RoofMatl  </th><th>Exterior1st  </th><th>Exterior2nd  </th><th>MasVnrType  </th><th style=\"text-align: right;\">  MasVnrArea</th><th>ExterQual  </th><th>ExterCond  </th><th>Foundation  </th><th>BsmtQual  </th><th>BsmtCond  </th><th>BsmtExposure  </th><th>BsmtFinType1  </th><th style=\"text-align: right;\">  BsmtFinSF1</th><th>BsmtFinType2  </th><th style=\"text-align: right;\">  BsmtFinSF2</th><th style=\"text-align: right;\">  BsmtUnfSF</th><th style=\"text-align: right;\">  TotalBsmtSF</th><th>Heating  </th><th>HeatingQC  </th><th>CentralAir  </th><th>Electrical  </th><th style=\"text-align: right;\">  1stFlrSF</th><th style=\"text-align: right;\">  2ndFlrSF</th><th style=\"text-align: right;\">  LowQualFinSF</th><th style=\"text-align: right;\">  GrLivArea</th><th style=\"text-align: right;\">  BsmtFullBath</th><th style=\"text-align: right;\">  BsmtHalfBath</th><th style=\"text-align: right;\">  FullBath</th><th style=\"text-align: right;\">  HalfBath</th><th style=\"text-align: right;\">  BedroomAbvGr</th><th style=\"text-align: right;\">  KitchenAbvGr</th><th>KitchenQual  </th><th style=\"text-align: right;\">  TotRmsAbvGrd</th><th>Functional  </th><th style=\"text-align: right;\">  Fireplaces</th><th>FireplaceQu  </th><th>GarageType  </th><th style=\"text-align: right;\">  GarageYrBlt</th><th>GarageFinish  </th><th style=\"text-align: right;\">  GarageCars</th><th style=\"text-align: right;\">  GarageArea</th><th>GarageQual  </th><th>GarageCond  </th><th>PavedDrive  </th><th style=\"text-align: right;\">  WoodDeckSF</th><th style=\"text-align: right;\">  OpenPorchSF</th><th style=\"text-align: right;\">  EnclosedPorch</th><th style=\"text-align: right;\">  3SsnPorch</th><th style=\"text-align: right;\">  ScreenPorch</th><th style=\"text-align: right;\">  PoolArea</th><th>PoolQC  </th><th>Fence  </th><th>MiscFeature  </th><th style=\"text-align: right;\">  MiscVal</th><th style=\"text-align: right;\">  MoSold</th><th style=\"text-align: right;\">  YrSold</th><th>SaleType  </th><th>SaleCondition  </th></tr>\n",
       "</thead>\n",
       "<tbody>\n",
       "<tr><td style=\"text-align: right;\">1461</td><td style=\"text-align: right;\">          20</td><td>RH        </td><td style=\"text-align: right;\">           80</td><td style=\"text-align: right;\">    11622</td><td>Pave    </td><td>NA     </td><td>Reg       </td><td>Lvl          </td><td>AllPub     </td><td>Inside     </td><td>Gtl        </td><td>NAmes         </td><td>Feedr       </td><td>Norm        </td><td>1Fam      </td><td>1Story      </td><td style=\"text-align: right;\">            5</td><td style=\"text-align: right;\">            6</td><td style=\"text-align: right;\">       1961</td><td style=\"text-align: right;\">          1961</td><td>Gable      </td><td>CompShg   </td><td>VinylSd      </td><td>VinylSd      </td><td>None        </td><td style=\"text-align: right;\">           0</td><td>TA         </td><td>TA         </td><td>CBlock      </td><td>TA        </td><td>TA        </td><td>No            </td><td>Rec           </td><td style=\"text-align: right;\">         468</td><td>LwQ           </td><td style=\"text-align: right;\">         144</td><td style=\"text-align: right;\">        270</td><td style=\"text-align: right;\">          882</td><td>GasA     </td><td>TA         </td><td>Y           </td><td>SBrkr       </td><td style=\"text-align: right;\">       896</td><td style=\"text-align: right;\">         0</td><td style=\"text-align: right;\">             0</td><td style=\"text-align: right;\">        896</td><td style=\"text-align: right;\">             0</td><td style=\"text-align: right;\">             0</td><td style=\"text-align: right;\">         1</td><td style=\"text-align: right;\">         0</td><td style=\"text-align: right;\">             2</td><td style=\"text-align: right;\">             1</td><td>TA           </td><td style=\"text-align: right;\">             5</td><td>Typ         </td><td style=\"text-align: right;\">           0</td><td>NA           </td><td>Attchd      </td><td style=\"text-align: right;\">         1961</td><td>Unf           </td><td style=\"text-align: right;\">           1</td><td style=\"text-align: right;\">         730</td><td>TA          </td><td>TA          </td><td>Y           </td><td style=\"text-align: right;\">         140</td><td style=\"text-align: right;\">            0</td><td style=\"text-align: right;\">              0</td><td style=\"text-align: right;\">          0</td><td style=\"text-align: right;\">          120</td><td style=\"text-align: right;\">         0</td><td>NA      </td><td>MnPrv  </td><td>NA           </td><td style=\"text-align: right;\">        0</td><td style=\"text-align: right;\">       6</td><td style=\"text-align: right;\">    2010</td><td>WD        </td><td>Normal         </td></tr>\n",
       "<tr><td style=\"text-align: right;\">1462</td><td style=\"text-align: right;\">          20</td><td>RL        </td><td style=\"text-align: right;\">           81</td><td style=\"text-align: right;\">    14267</td><td>Pave    </td><td>NA     </td><td>IR1       </td><td>Lvl          </td><td>AllPub     </td><td>Corner     </td><td>Gtl        </td><td>NAmes         </td><td>Norm        </td><td>Norm        </td><td>1Fam      </td><td>1Story      </td><td style=\"text-align: right;\">            6</td><td style=\"text-align: right;\">            6</td><td style=\"text-align: right;\">       1958</td><td style=\"text-align: right;\">          1958</td><td>Hip        </td><td>CompShg   </td><td>Wd Sdng      </td><td>Wd Sdng      </td><td>BrkFace     </td><td style=\"text-align: right;\">         108</td><td>TA         </td><td>TA         </td><td>CBlock      </td><td>TA        </td><td>TA        </td><td>No            </td><td>ALQ           </td><td style=\"text-align: right;\">         923</td><td>Unf           </td><td style=\"text-align: right;\">           0</td><td style=\"text-align: right;\">        406</td><td style=\"text-align: right;\">         1329</td><td>GasA     </td><td>TA         </td><td>Y           </td><td>SBrkr       </td><td style=\"text-align: right;\">      1329</td><td style=\"text-align: right;\">         0</td><td style=\"text-align: right;\">             0</td><td style=\"text-align: right;\">       1329</td><td style=\"text-align: right;\">             0</td><td style=\"text-align: right;\">             0</td><td style=\"text-align: right;\">         1</td><td style=\"text-align: right;\">         1</td><td style=\"text-align: right;\">             3</td><td style=\"text-align: right;\">             1</td><td>Gd           </td><td style=\"text-align: right;\">             6</td><td>Typ         </td><td style=\"text-align: right;\">           0</td><td>NA           </td><td>Attchd      </td><td style=\"text-align: right;\">         1958</td><td>Unf           </td><td style=\"text-align: right;\">           1</td><td style=\"text-align: right;\">         312</td><td>TA          </td><td>TA          </td><td>Y           </td><td style=\"text-align: right;\">         393</td><td style=\"text-align: right;\">           36</td><td style=\"text-align: right;\">              0</td><td style=\"text-align: right;\">          0</td><td style=\"text-align: right;\">            0</td><td style=\"text-align: right;\">         0</td><td>NA      </td><td>NA     </td><td>Gar2         </td><td style=\"text-align: right;\">    12500</td><td style=\"text-align: right;\">       6</td><td style=\"text-align: right;\">    2010</td><td>WD        </td><td>Normal         </td></tr>\n",
       "<tr><td style=\"text-align: right;\">1463</td><td style=\"text-align: right;\">          60</td><td>RL        </td><td style=\"text-align: right;\">           74</td><td style=\"text-align: right;\">    13830</td><td>Pave    </td><td>NA     </td><td>IR1       </td><td>Lvl          </td><td>AllPub     </td><td>Inside     </td><td>Gtl        </td><td>Gilbert       </td><td>Norm        </td><td>Norm        </td><td>1Fam      </td><td>2Story      </td><td style=\"text-align: right;\">            5</td><td style=\"text-align: right;\">            5</td><td style=\"text-align: right;\">       1997</td><td style=\"text-align: right;\">          1998</td><td>Gable      </td><td>CompShg   </td><td>VinylSd      </td><td>VinylSd      </td><td>None        </td><td style=\"text-align: right;\">           0</td><td>TA         </td><td>TA         </td><td>PConc       </td><td>Gd        </td><td>TA        </td><td>No            </td><td>GLQ           </td><td style=\"text-align: right;\">         791</td><td>Unf           </td><td style=\"text-align: right;\">           0</td><td style=\"text-align: right;\">        137</td><td style=\"text-align: right;\">          928</td><td>GasA     </td><td>Gd         </td><td>Y           </td><td>SBrkr       </td><td style=\"text-align: right;\">       928</td><td style=\"text-align: right;\">       701</td><td style=\"text-align: right;\">             0</td><td style=\"text-align: right;\">       1629</td><td style=\"text-align: right;\">             0</td><td style=\"text-align: right;\">             0</td><td style=\"text-align: right;\">         2</td><td style=\"text-align: right;\">         1</td><td style=\"text-align: right;\">             3</td><td style=\"text-align: right;\">             1</td><td>TA           </td><td style=\"text-align: right;\">             6</td><td>Typ         </td><td style=\"text-align: right;\">           1</td><td>TA           </td><td>Attchd      </td><td style=\"text-align: right;\">         1997</td><td>Fin           </td><td style=\"text-align: right;\">           2</td><td style=\"text-align: right;\">         482</td><td>TA          </td><td>TA          </td><td>Y           </td><td style=\"text-align: right;\">         212</td><td style=\"text-align: right;\">           34</td><td style=\"text-align: right;\">              0</td><td style=\"text-align: right;\">          0</td><td style=\"text-align: right;\">            0</td><td style=\"text-align: right;\">         0</td><td>NA      </td><td>MnPrv  </td><td>NA           </td><td style=\"text-align: right;\">        0</td><td style=\"text-align: right;\">       3</td><td style=\"text-align: right;\">    2010</td><td>WD        </td><td>Normal         </td></tr>\n",
       "<tr><td style=\"text-align: right;\">1464</td><td style=\"text-align: right;\">          60</td><td>RL        </td><td style=\"text-align: right;\">           78</td><td style=\"text-align: right;\">     9978</td><td>Pave    </td><td>NA     </td><td>IR1       </td><td>Lvl          </td><td>AllPub     </td><td>Inside     </td><td>Gtl        </td><td>Gilbert       </td><td>Norm        </td><td>Norm        </td><td>1Fam      </td><td>2Story      </td><td style=\"text-align: right;\">            6</td><td style=\"text-align: right;\">            6</td><td style=\"text-align: right;\">       1998</td><td style=\"text-align: right;\">          1998</td><td>Gable      </td><td>CompShg   </td><td>VinylSd      </td><td>VinylSd      </td><td>BrkFace     </td><td style=\"text-align: right;\">          20</td><td>TA         </td><td>TA         </td><td>PConc       </td><td>TA        </td><td>TA        </td><td>No            </td><td>GLQ           </td><td style=\"text-align: right;\">         602</td><td>Unf           </td><td style=\"text-align: right;\">           0</td><td style=\"text-align: right;\">        324</td><td style=\"text-align: right;\">          926</td><td>GasA     </td><td>Ex         </td><td>Y           </td><td>SBrkr       </td><td style=\"text-align: right;\">       926</td><td style=\"text-align: right;\">       678</td><td style=\"text-align: right;\">             0</td><td style=\"text-align: right;\">       1604</td><td style=\"text-align: right;\">             0</td><td style=\"text-align: right;\">             0</td><td style=\"text-align: right;\">         2</td><td style=\"text-align: right;\">         1</td><td style=\"text-align: right;\">             3</td><td style=\"text-align: right;\">             1</td><td>Gd           </td><td style=\"text-align: right;\">             7</td><td>Typ         </td><td style=\"text-align: right;\">           1</td><td>Gd           </td><td>Attchd      </td><td style=\"text-align: right;\">         1998</td><td>Fin           </td><td style=\"text-align: right;\">           2</td><td style=\"text-align: right;\">         470</td><td>TA          </td><td>TA          </td><td>Y           </td><td style=\"text-align: right;\">         360</td><td style=\"text-align: right;\">           36</td><td style=\"text-align: right;\">              0</td><td style=\"text-align: right;\">          0</td><td style=\"text-align: right;\">            0</td><td style=\"text-align: right;\">         0</td><td>NA      </td><td>NA     </td><td>NA           </td><td style=\"text-align: right;\">        0</td><td style=\"text-align: right;\">       6</td><td style=\"text-align: right;\">    2010</td><td>WD        </td><td>Normal         </td></tr>\n",
       "<tr><td style=\"text-align: right;\">1465</td><td style=\"text-align: right;\">         120</td><td>RL        </td><td style=\"text-align: right;\">           43</td><td style=\"text-align: right;\">     5005</td><td>Pave    </td><td>NA     </td><td>IR1       </td><td>HLS          </td><td>AllPub     </td><td>Inside     </td><td>Gtl        </td><td>StoneBr       </td><td>Norm        </td><td>Norm        </td><td>TwnhsE    </td><td>1Story      </td><td style=\"text-align: right;\">            8</td><td style=\"text-align: right;\">            5</td><td style=\"text-align: right;\">       1992</td><td style=\"text-align: right;\">          1992</td><td>Gable      </td><td>CompShg   </td><td>HdBoard      </td><td>HdBoard      </td><td>None        </td><td style=\"text-align: right;\">           0</td><td>Gd         </td><td>TA         </td><td>PConc       </td><td>Gd        </td><td>TA        </td><td>No            </td><td>ALQ           </td><td style=\"text-align: right;\">         263</td><td>Unf           </td><td style=\"text-align: right;\">           0</td><td style=\"text-align: right;\">       1017</td><td style=\"text-align: right;\">         1280</td><td>GasA     </td><td>Ex         </td><td>Y           </td><td>SBrkr       </td><td style=\"text-align: right;\">      1280</td><td style=\"text-align: right;\">         0</td><td style=\"text-align: right;\">             0</td><td style=\"text-align: right;\">       1280</td><td style=\"text-align: right;\">             0</td><td style=\"text-align: right;\">             0</td><td style=\"text-align: right;\">         2</td><td style=\"text-align: right;\">         0</td><td style=\"text-align: right;\">             2</td><td style=\"text-align: right;\">             1</td><td>Gd           </td><td style=\"text-align: right;\">             5</td><td>Typ         </td><td style=\"text-align: right;\">           0</td><td>NA           </td><td>Attchd      </td><td style=\"text-align: right;\">         1992</td><td>RFn           </td><td style=\"text-align: right;\">           2</td><td style=\"text-align: right;\">         506</td><td>TA          </td><td>TA          </td><td>Y           </td><td style=\"text-align: right;\">           0</td><td style=\"text-align: right;\">           82</td><td style=\"text-align: right;\">              0</td><td style=\"text-align: right;\">          0</td><td style=\"text-align: right;\">          144</td><td style=\"text-align: right;\">         0</td><td>NA      </td><td>NA     </td><td>NA           </td><td style=\"text-align: right;\">        0</td><td style=\"text-align: right;\">       1</td><td style=\"text-align: right;\">    2010</td><td>WD        </td><td>Normal         </td></tr>\n",
       "<tr><td style=\"text-align: right;\">1466</td><td style=\"text-align: right;\">          60</td><td>RL        </td><td style=\"text-align: right;\">           75</td><td style=\"text-align: right;\">    10000</td><td>Pave    </td><td>NA     </td><td>IR1       </td><td>Lvl          </td><td>AllPub     </td><td>Corner     </td><td>Gtl        </td><td>Gilbert       </td><td>Norm        </td><td>Norm        </td><td>1Fam      </td><td>2Story      </td><td style=\"text-align: right;\">            6</td><td style=\"text-align: right;\">            5</td><td style=\"text-align: right;\">       1993</td><td style=\"text-align: right;\">          1994</td><td>Gable      </td><td>CompShg   </td><td>HdBoard      </td><td>HdBoard      </td><td>None        </td><td style=\"text-align: right;\">           0</td><td>TA         </td><td>TA         </td><td>PConc       </td><td>Gd        </td><td>TA        </td><td>No            </td><td>Unf           </td><td style=\"text-align: right;\">           0</td><td>Unf           </td><td style=\"text-align: right;\">           0</td><td style=\"text-align: right;\">        763</td><td style=\"text-align: right;\">          763</td><td>GasA     </td><td>Gd         </td><td>Y           </td><td>SBrkr       </td><td style=\"text-align: right;\">       763</td><td style=\"text-align: right;\">       892</td><td style=\"text-align: right;\">             0</td><td style=\"text-align: right;\">       1655</td><td style=\"text-align: right;\">             0</td><td style=\"text-align: right;\">             0</td><td style=\"text-align: right;\">         2</td><td style=\"text-align: right;\">         1</td><td style=\"text-align: right;\">             3</td><td style=\"text-align: right;\">             1</td><td>TA           </td><td style=\"text-align: right;\">             7</td><td>Typ         </td><td style=\"text-align: right;\">           1</td><td>TA           </td><td>Attchd      </td><td style=\"text-align: right;\">         1993</td><td>Fin           </td><td style=\"text-align: right;\">           2</td><td style=\"text-align: right;\">         440</td><td>TA          </td><td>TA          </td><td>Y           </td><td style=\"text-align: right;\">         157</td><td style=\"text-align: right;\">           84</td><td style=\"text-align: right;\">              0</td><td style=\"text-align: right;\">          0</td><td style=\"text-align: right;\">            0</td><td style=\"text-align: right;\">         0</td><td>NA      </td><td>NA     </td><td>NA           </td><td style=\"text-align: right;\">        0</td><td style=\"text-align: right;\">       4</td><td style=\"text-align: right;\">    2010</td><td>WD        </td><td>Normal         </td></tr>\n",
       "<tr><td style=\"text-align: right;\">1467</td><td style=\"text-align: right;\">          20</td><td>RL        </td><td style=\"text-align: right;\">          nan</td><td style=\"text-align: right;\">     7980</td><td>Pave    </td><td>NA     </td><td>IR1       </td><td>Lvl          </td><td>AllPub     </td><td>Inside     </td><td>Gtl        </td><td>Gilbert       </td><td>Norm        </td><td>Norm        </td><td>1Fam      </td><td>1Story      </td><td style=\"text-align: right;\">            6</td><td style=\"text-align: right;\">            7</td><td style=\"text-align: right;\">       1992</td><td style=\"text-align: right;\">          2007</td><td>Gable      </td><td>CompShg   </td><td>HdBoard      </td><td>HdBoard      </td><td>None        </td><td style=\"text-align: right;\">           0</td><td>TA         </td><td>Gd         </td><td>PConc       </td><td>Gd        </td><td>TA        </td><td>No            </td><td>ALQ           </td><td style=\"text-align: right;\">         935</td><td>Unf           </td><td style=\"text-align: right;\">           0</td><td style=\"text-align: right;\">        233</td><td style=\"text-align: right;\">         1168</td><td>GasA     </td><td>Ex         </td><td>Y           </td><td>SBrkr       </td><td style=\"text-align: right;\">      1187</td><td style=\"text-align: right;\">         0</td><td style=\"text-align: right;\">             0</td><td style=\"text-align: right;\">       1187</td><td style=\"text-align: right;\">             1</td><td style=\"text-align: right;\">             0</td><td style=\"text-align: right;\">         2</td><td style=\"text-align: right;\">         0</td><td style=\"text-align: right;\">             3</td><td style=\"text-align: right;\">             1</td><td>TA           </td><td style=\"text-align: right;\">             6</td><td>Typ         </td><td style=\"text-align: right;\">           0</td><td>NA           </td><td>Attchd      </td><td style=\"text-align: right;\">         1992</td><td>Fin           </td><td style=\"text-align: right;\">           2</td><td style=\"text-align: right;\">         420</td><td>TA          </td><td>TA          </td><td>Y           </td><td style=\"text-align: right;\">         483</td><td style=\"text-align: right;\">           21</td><td style=\"text-align: right;\">              0</td><td style=\"text-align: right;\">          0</td><td style=\"text-align: right;\">            0</td><td style=\"text-align: right;\">         0</td><td>NA      </td><td>GdPrv  </td><td>Shed         </td><td style=\"text-align: right;\">      500</td><td style=\"text-align: right;\">       3</td><td style=\"text-align: right;\">    2010</td><td>WD        </td><td>Normal         </td></tr>\n",
       "<tr><td style=\"text-align: right;\">1468</td><td style=\"text-align: right;\">          60</td><td>RL        </td><td style=\"text-align: right;\">           63</td><td style=\"text-align: right;\">     8402</td><td>Pave    </td><td>NA     </td><td>IR1       </td><td>Lvl          </td><td>AllPub     </td><td>Inside     </td><td>Gtl        </td><td>Gilbert       </td><td>Norm        </td><td>Norm        </td><td>1Fam      </td><td>2Story      </td><td style=\"text-align: right;\">            6</td><td style=\"text-align: right;\">            5</td><td style=\"text-align: right;\">       1998</td><td style=\"text-align: right;\">          1998</td><td>Gable      </td><td>CompShg   </td><td>VinylSd      </td><td>VinylSd      </td><td>None        </td><td style=\"text-align: right;\">           0</td><td>TA         </td><td>TA         </td><td>PConc       </td><td>Gd        </td><td>TA        </td><td>No            </td><td>Unf           </td><td style=\"text-align: right;\">           0</td><td>Unf           </td><td style=\"text-align: right;\">           0</td><td style=\"text-align: right;\">        789</td><td style=\"text-align: right;\">          789</td><td>GasA     </td><td>Gd         </td><td>Y           </td><td>SBrkr       </td><td style=\"text-align: right;\">       789</td><td style=\"text-align: right;\">       676</td><td style=\"text-align: right;\">             0</td><td style=\"text-align: right;\">       1465</td><td style=\"text-align: right;\">             0</td><td style=\"text-align: right;\">             0</td><td style=\"text-align: right;\">         2</td><td style=\"text-align: right;\">         1</td><td style=\"text-align: right;\">             3</td><td style=\"text-align: right;\">             1</td><td>TA           </td><td style=\"text-align: right;\">             7</td><td>Typ         </td><td style=\"text-align: right;\">           1</td><td>Gd           </td><td>Attchd      </td><td style=\"text-align: right;\">         1998</td><td>Fin           </td><td style=\"text-align: right;\">           2</td><td style=\"text-align: right;\">         393</td><td>TA          </td><td>TA          </td><td>Y           </td><td style=\"text-align: right;\">           0</td><td style=\"text-align: right;\">           75</td><td style=\"text-align: right;\">              0</td><td style=\"text-align: right;\">          0</td><td style=\"text-align: right;\">            0</td><td style=\"text-align: right;\">         0</td><td>NA      </td><td>NA     </td><td>NA           </td><td style=\"text-align: right;\">        0</td><td style=\"text-align: right;\">       5</td><td style=\"text-align: right;\">    2010</td><td>WD        </td><td>Normal         </td></tr>\n",
       "<tr><td style=\"text-align: right;\">1469</td><td style=\"text-align: right;\">          20</td><td>RL        </td><td style=\"text-align: right;\">           85</td><td style=\"text-align: right;\">    10176</td><td>Pave    </td><td>NA     </td><td>Reg       </td><td>Lvl          </td><td>AllPub     </td><td>Inside     </td><td>Gtl        </td><td>Gilbert       </td><td>Norm        </td><td>Norm        </td><td>1Fam      </td><td>1Story      </td><td style=\"text-align: right;\">            7</td><td style=\"text-align: right;\">            5</td><td style=\"text-align: right;\">       1990</td><td style=\"text-align: right;\">          1990</td><td>Gable      </td><td>CompShg   </td><td>HdBoard      </td><td>HdBoard      </td><td>None        </td><td style=\"text-align: right;\">           0</td><td>TA         </td><td>TA         </td><td>PConc       </td><td>Gd        </td><td>TA        </td><td>Gd            </td><td>GLQ           </td><td style=\"text-align: right;\">         637</td><td>Unf           </td><td style=\"text-align: right;\">           0</td><td style=\"text-align: right;\">        663</td><td style=\"text-align: right;\">         1300</td><td>GasA     </td><td>Gd         </td><td>Y           </td><td>SBrkr       </td><td style=\"text-align: right;\">      1341</td><td style=\"text-align: right;\">         0</td><td style=\"text-align: right;\">             0</td><td style=\"text-align: right;\">       1341</td><td style=\"text-align: right;\">             1</td><td style=\"text-align: right;\">             0</td><td style=\"text-align: right;\">         1</td><td style=\"text-align: right;\">         1</td><td style=\"text-align: right;\">             2</td><td style=\"text-align: right;\">             1</td><td>Gd           </td><td style=\"text-align: right;\">             5</td><td>Typ         </td><td style=\"text-align: right;\">           1</td><td>Po           </td><td>Attchd      </td><td style=\"text-align: right;\">         1990</td><td>Unf           </td><td style=\"text-align: right;\">           2</td><td style=\"text-align: right;\">         506</td><td>TA          </td><td>TA          </td><td>Y           </td><td style=\"text-align: right;\">         192</td><td style=\"text-align: right;\">            0</td><td style=\"text-align: right;\">              0</td><td style=\"text-align: right;\">          0</td><td style=\"text-align: right;\">            0</td><td style=\"text-align: right;\">         0</td><td>NA      </td><td>NA     </td><td>NA           </td><td style=\"text-align: right;\">        0</td><td style=\"text-align: right;\">       2</td><td style=\"text-align: right;\">    2010</td><td>WD        </td><td>Normal         </td></tr>\n",
       "<tr><td style=\"text-align: right;\">1470</td><td style=\"text-align: right;\">          20</td><td>RL        </td><td style=\"text-align: right;\">           70</td><td style=\"text-align: right;\">     8400</td><td>Pave    </td><td>NA     </td><td>Reg       </td><td>Lvl          </td><td>AllPub     </td><td>Corner     </td><td>Gtl        </td><td>NAmes         </td><td>Norm        </td><td>Norm        </td><td>1Fam      </td><td>1Story      </td><td style=\"text-align: right;\">            4</td><td style=\"text-align: right;\">            5</td><td style=\"text-align: right;\">       1970</td><td style=\"text-align: right;\">          1970</td><td>Gable      </td><td>CompShg   </td><td>Plywood      </td><td>Plywood      </td><td>None        </td><td style=\"text-align: right;\">           0</td><td>TA         </td><td>TA         </td><td>CBlock      </td><td>TA        </td><td>TA        </td><td>No            </td><td>ALQ           </td><td style=\"text-align: right;\">         804</td><td>Rec           </td><td style=\"text-align: right;\">          78</td><td style=\"text-align: right;\">          0</td><td style=\"text-align: right;\">          882</td><td>GasA     </td><td>TA         </td><td>Y           </td><td>SBrkr       </td><td style=\"text-align: right;\">       882</td><td style=\"text-align: right;\">         0</td><td style=\"text-align: right;\">             0</td><td style=\"text-align: right;\">        882</td><td style=\"text-align: right;\">             1</td><td style=\"text-align: right;\">             0</td><td style=\"text-align: right;\">         1</td><td style=\"text-align: right;\">         0</td><td style=\"text-align: right;\">             2</td><td style=\"text-align: right;\">             1</td><td>TA           </td><td style=\"text-align: right;\">             4</td><td>Typ         </td><td style=\"text-align: right;\">           0</td><td>NA           </td><td>Attchd      </td><td style=\"text-align: right;\">         1970</td><td>Fin           </td><td style=\"text-align: right;\">           2</td><td style=\"text-align: right;\">         525</td><td>TA          </td><td>TA          </td><td>Y           </td><td style=\"text-align: right;\">         240</td><td style=\"text-align: right;\">            0</td><td style=\"text-align: right;\">              0</td><td style=\"text-align: right;\">          0</td><td style=\"text-align: right;\">            0</td><td style=\"text-align: right;\">         0</td><td>NA      </td><td>MnPrv  </td><td>NA           </td><td style=\"text-align: right;\">        0</td><td style=\"text-align: right;\">       4</td><td style=\"text-align: right;\">    2010</td><td>WD        </td><td>Normal         </td></tr>\n",
       "</tbody>\n",
       "</table>"
      ]
     },
     "metadata": {},
     "output_type": "display_data"
    },
    {
     "data": {
      "text/plain": []
     },
     "execution_count": 36,
     "metadata": {},
     "output_type": "execute_result"
    }
   ],
   "source": [
    "df_sample"
   ]
  },
  {
   "cell_type": "code",
   "execution_count": 40,
   "metadata": {},
   "outputs": [
    {
     "name": "stdout",
     "output_type": "stream",
     "text": [
      "Rows:1460\n",
      "Cols:81\n",
      "\n",
      "Chunk compression summary: \n"
     ]
    },
    {
     "data": {
      "text/html": [
       "<div>\n",
       "<style scoped>\n",
       "    .dataframe tbody tr th:only-of-type {\n",
       "        vertical-align: middle;\n",
       "    }\n",
       "\n",
       "    .dataframe tbody tr th {\n",
       "        vertical-align: top;\n",
       "    }\n",
       "\n",
       "    .dataframe thead th {\n",
       "        text-align: right;\n",
       "    }\n",
       "</style>\n",
       "<table border=\"1\" class=\"dataframe\">\n",
       "  <thead>\n",
       "    <tr style=\"text-align: right;\">\n",
       "      <th></th>\n",
       "      <th>chunk_type</th>\n",
       "      <th>chunk_name</th>\n",
       "      <th>count</th>\n",
       "      <th>count_percentage</th>\n",
       "      <th>size</th>\n",
       "      <th>size_percentage</th>\n",
       "    </tr>\n",
       "  </thead>\n",
       "  <tbody>\n",
       "    <tr>\n",
       "      <th>0</th>\n",
       "      <td>C0L</td>\n",
       "      <td>Constant long</td>\n",
       "      <td>312</td>\n",
       "      <td>9.629629</td>\n",
       "      <td>24.4 KB</td>\n",
       "      <td>7.184719</td>\n",
       "    </tr>\n",
       "    <tr>\n",
       "      <th>1</th>\n",
       "      <td>CBS</td>\n",
       "      <td>Binary</td>\n",
       "      <td>113</td>\n",
       "      <td>3.487654</td>\n",
       "      <td>8.3 KB</td>\n",
       "      <td>2.439523</td>\n",
       "    </tr>\n",
       "    <tr>\n",
       "      <th>2</th>\n",
       "      <td>CXI</td>\n",
       "      <td>Sparse Integers</td>\n",
       "      <td>213</td>\n",
       "      <td>6.574074</td>\n",
       "      <td>17.4 KB</td>\n",
       "      <td>5.140988</td>\n",
       "    </tr>\n",
       "    <tr>\n",
       "      <th>3</th>\n",
       "      <td>C1</td>\n",
       "      <td>1-Byte Integers</td>\n",
       "      <td>51</td>\n",
       "      <td>1.574074</td>\n",
       "      <td>5.2 KB</td>\n",
       "      <td>1.534525</td>\n",
       "    </tr>\n",
       "    <tr>\n",
       "      <th>4</th>\n",
       "      <td>C1N</td>\n",
       "      <td>1-Byte Integers (w/o NAs)</td>\n",
       "      <td>1864</td>\n",
       "      <td>57.530860</td>\n",
       "      <td>190.2 KB</td>\n",
       "      <td>56.068726</td>\n",
       "    </tr>\n",
       "    <tr>\n",
       "      <th>5</th>\n",
       "      <td>C1S</td>\n",
       "      <td>1-Byte Fractions</td>\n",
       "      <td>195</td>\n",
       "      <td>6.018518</td>\n",
       "      <td>22.9 KB</td>\n",
       "      <td>6.764171</td>\n",
       "    </tr>\n",
       "    <tr>\n",
       "      <th>6</th>\n",
       "      <td>C2</td>\n",
       "      <td>2-Byte Integers</td>\n",
       "      <td>436</td>\n",
       "      <td>13.456790</td>\n",
       "      <td>60.0 KB</td>\n",
       "      <td>17.694674</td>\n",
       "    </tr>\n",
       "    <tr>\n",
       "      <th>7</th>\n",
       "      <td>C2S</td>\n",
       "      <td>2-Byte Fractions</td>\n",
       "      <td>17</td>\n",
       "      <td>0.524691</td>\n",
       "      <td>2.6 KB</td>\n",
       "      <td>0.767406</td>\n",
       "    </tr>\n",
       "    <tr>\n",
       "      <th>8</th>\n",
       "      <td>C4</td>\n",
       "      <td>4-Byte Integers</td>\n",
       "      <td>39</td>\n",
       "      <td>1.203704</td>\n",
       "      <td>8.2 KB</td>\n",
       "      <td>2.405269</td>\n",
       "    </tr>\n",
       "  </tbody>\n",
       "</table>\n",
       "</div>"
      ],
      "text/plain": [
       "  chunk_type                 chunk_name  count  count_percentage        size  \\\n",
       "0        C0L              Constant long    312          9.629629     24.4 KB   \n",
       "1        CBS                     Binary    113          3.487654      8.3 KB   \n",
       "2        CXI            Sparse Integers    213          6.574074     17.4 KB   \n",
       "3         C1            1-Byte Integers     51          1.574074      5.2 KB   \n",
       "4        C1N  1-Byte Integers (w/o NAs)   1864         57.530860    190.2 KB   \n",
       "5        C1S           1-Byte Fractions    195          6.018518     22.9 KB   \n",
       "6         C2            2-Byte Integers    436         13.456790     60.0 KB   \n",
       "7        C2S           2-Byte Fractions     17          0.524691      2.6 KB   \n",
       "8         C4            4-Byte Integers     39          1.203704      8.2 KB   \n",
       "\n",
       "   size_percentage  \n",
       "0         7.184719  \n",
       "1         2.439523  \n",
       "2         5.140988  \n",
       "3         1.534525  \n",
       "4        56.068726  \n",
       "5         6.764171  \n",
       "6        17.694674  \n",
       "7         0.767406  \n",
       "8         2.405269  "
      ]
     },
     "metadata": {},
     "output_type": "display_data"
    },
    {
     "name": "stdout",
     "output_type": "stream",
     "text": [
      "\n",
      "Frame distribution summary: \n"
     ]
    },
    {
     "data": {
      "text/html": [
       "<div>\n",
       "<style scoped>\n",
       "    .dataframe tbody tr th:only-of-type {\n",
       "        vertical-align: middle;\n",
       "    }\n",
       "\n",
       "    .dataframe tbody tr th {\n",
       "        vertical-align: top;\n",
       "    }\n",
       "\n",
       "    .dataframe thead th {\n",
       "        text-align: right;\n",
       "    }\n",
       "</style>\n",
       "<table border=\"1\" class=\"dataframe\">\n",
       "  <thead>\n",
       "    <tr style=\"text-align: right;\">\n",
       "      <th></th>\n",
       "      <th></th>\n",
       "      <th>size</th>\n",
       "      <th>number_of_rows</th>\n",
       "      <th>number_of_chunks_per_column</th>\n",
       "      <th>number_of_chunks</th>\n",
       "    </tr>\n",
       "  </thead>\n",
       "  <tbody>\n",
       "    <tr>\n",
       "      <th>0</th>\n",
       "      <td>127.0.0.1:54321</td>\n",
       "      <td>339.3 KB</td>\n",
       "      <td>1460.0</td>\n",
       "      <td>40.0</td>\n",
       "      <td>3240.0</td>\n",
       "    </tr>\n",
       "    <tr>\n",
       "      <th>1</th>\n",
       "      <td>mean</td>\n",
       "      <td>339.3 KB</td>\n",
       "      <td>1460.0</td>\n",
       "      <td>40.0</td>\n",
       "      <td>3240.0</td>\n",
       "    </tr>\n",
       "    <tr>\n",
       "      <th>2</th>\n",
       "      <td>min</td>\n",
       "      <td>339.3 KB</td>\n",
       "      <td>1460.0</td>\n",
       "      <td>40.0</td>\n",
       "      <td>3240.0</td>\n",
       "    </tr>\n",
       "    <tr>\n",
       "      <th>3</th>\n",
       "      <td>max</td>\n",
       "      <td>339.3 KB</td>\n",
       "      <td>1460.0</td>\n",
       "      <td>40.0</td>\n",
       "      <td>3240.0</td>\n",
       "    </tr>\n",
       "    <tr>\n",
       "      <th>4</th>\n",
       "      <td>stddev</td>\n",
       "      <td>0  B</td>\n",
       "      <td>0.0</td>\n",
       "      <td>0.0</td>\n",
       "      <td>0.0</td>\n",
       "    </tr>\n",
       "    <tr>\n",
       "      <th>5</th>\n",
       "      <td>total</td>\n",
       "      <td>339.3 KB</td>\n",
       "      <td>1460.0</td>\n",
       "      <td>40.0</td>\n",
       "      <td>3240.0</td>\n",
       "    </tr>\n",
       "  </tbody>\n",
       "</table>\n",
       "</div>"
      ],
      "text/plain": [
       "                          size  number_of_rows  number_of_chunks_per_column  \\\n",
       "0  127.0.0.1:54321    339.3 KB          1460.0                         40.0   \n",
       "1             mean    339.3 KB          1460.0                         40.0   \n",
       "2              min    339.3 KB          1460.0                         40.0   \n",
       "3              max    339.3 KB          1460.0                         40.0   \n",
       "4           stddev        0  B             0.0                          0.0   \n",
       "5            total    339.3 KB          1460.0                         40.0   \n",
       "\n",
       "   number_of_chunks  \n",
       "0            3240.0  \n",
       "1            3240.0  \n",
       "2            3240.0  \n",
       "3            3240.0  \n",
       "4               0.0  \n",
       "5            3240.0  "
      ]
     },
     "metadata": {},
     "output_type": "display_data"
    },
    {
     "name": "stdout",
     "output_type": "stream",
     "text": [
      "\n",
      "\n"
     ]
    },
    {
     "data": {
      "text/html": [
       "<table>\n",
       "<thead>\n",
       "<tr><th>       </th><th>Id               </th><th>MSSubClass        </th><th>MSZoning  </th><th>LotFrontage       </th><th>LotArea           </th><th>Street  </th><th>Alley  </th><th>LotShape  </th><th>LandContour  </th><th>Utilities  </th><th>LotConfig  </th><th>LandSlope  </th><th>Neighborhood  </th><th>Condition1  </th><th>Condition2  </th><th>BldgType  </th><th>HouseStyle  </th><th>OverallQual       </th><th>OverallCond       </th><th>YearBuilt         </th><th>YearRemodAdd      </th><th>RoofStyle  </th><th>RoofMatl  </th><th>Exterior1st  </th><th>Exterior2nd  </th><th>MasVnrType  </th><th>MasVnrArea        </th><th>ExterQual  </th><th>ExterCond  </th><th>Foundation  </th><th>BsmtQual  </th><th>BsmtCond  </th><th>BsmtExposure  </th><th>BsmtFinType1  </th><th>BsmtFinSF1       </th><th>BsmtFinType2  </th><th>BsmtFinSF2        </th><th>BsmtUnfSF         </th><th>TotalBsmtSF       </th><th>Heating  </th><th>HeatingQC  </th><th>CentralAir  </th><th>Electrical  </th><th>1stFlrSF          </th><th>2ndFlrSF          </th><th>LowQualFinSF     </th><th>GrLivArea        </th><th>BsmtFullBath       </th><th>BsmtHalfBath        </th><th>FullBath          </th><th>HalfBath           </th><th>BedroomAbvGr      </th><th>KitchenAbvGr      </th><th>KitchenQual  </th><th>TotRmsAbvGrd      </th><th>Functional  </th><th>Fireplaces        </th><th>FireplaceQu  </th><th>GarageType  </th><th>GarageYrBlt       </th><th>GarageFinish  </th><th>GarageCars        </th><th>GarageArea        </th><th>GarageQual  </th><th>GarageCond  </th><th>PavedDrive  </th><th>WoodDeckSF       </th><th>OpenPorchSF      </th><th>EnclosedPorch     </th><th>3SsnPorch         </th><th>ScreenPorch       </th><th>PoolArea         </th><th>PoolQC  </th><th>Fence  </th><th>MiscFeature  </th><th>MiscVal           </th><th>MoSold            </th><th>YrSold            </th><th>SaleType  </th><th>SaleCondition  </th><th>SalePrice         </th></tr>\n",
       "</thead>\n",
       "<tbody>\n",
       "<tr><td>type   </td><td>int              </td><td>int               </td><td>enum      </td><td>int               </td><td>int               </td><td>enum    </td><td>enum   </td><td>enum      </td><td>enum         </td><td>enum       </td><td>enum       </td><td>enum       </td><td>enum          </td><td>enum        </td><td>enum        </td><td>enum      </td><td>enum        </td><td>int               </td><td>int               </td><td>int               </td><td>int               </td><td>enum       </td><td>enum      </td><td>enum         </td><td>enum         </td><td>enum        </td><td>int               </td><td>enum       </td><td>enum       </td><td>enum        </td><td>enum      </td><td>enum      </td><td>enum          </td><td>enum          </td><td>int              </td><td>enum          </td><td>int               </td><td>int               </td><td>int               </td><td>enum     </td><td>enum       </td><td>enum        </td><td>enum        </td><td>int               </td><td>int               </td><td>int              </td><td>int              </td><td>int                </td><td>int                 </td><td>int               </td><td>int                </td><td>int               </td><td>int               </td><td>enum         </td><td>int               </td><td>enum        </td><td>int               </td><td>enum         </td><td>enum        </td><td>int               </td><td>enum          </td><td>int               </td><td>int               </td><td>enum        </td><td>enum        </td><td>enum        </td><td>int              </td><td>int              </td><td>int               </td><td>int               </td><td>int               </td><td>int              </td><td>enum    </td><td>enum   </td><td>enum         </td><td>int               </td><td>int               </td><td>int               </td><td>enum      </td><td>enum           </td><td>int               </td></tr>\n",
       "<tr><td>mins   </td><td>1.0              </td><td>20.0              </td><td>          </td><td>21.0              </td><td>1300.0            </td><td>        </td><td>       </td><td>          </td><td>             </td><td>           </td><td>           </td><td>           </td><td>              </td><td>            </td><td>            </td><td>          </td><td>            </td><td>1.0               </td><td>1.0               </td><td>1872.0            </td><td>1950.0            </td><td>           </td><td>          </td><td>             </td><td>             </td><td>            </td><td>0.0               </td><td>           </td><td>           </td><td>            </td><td>          </td><td>          </td><td>              </td><td>              </td><td>0.0              </td><td>              </td><td>0.0               </td><td>0.0               </td><td>0.0               </td><td>         </td><td>           </td><td>            </td><td>            </td><td>334.0             </td><td>0.0               </td><td>0.0              </td><td>334.0            </td><td>0.0                </td><td>0.0                 </td><td>0.0               </td><td>0.0                </td><td>0.0               </td><td>0.0               </td><td>             </td><td>2.0               </td><td>            </td><td>0.0               </td><td>             </td><td>            </td><td>1900.0            </td><td>              </td><td>0.0               </td><td>0.0               </td><td>            </td><td>            </td><td>            </td><td>0.0              </td><td>0.0              </td><td>0.0               </td><td>0.0               </td><td>0.0               </td><td>0.0              </td><td>        </td><td>       </td><td>             </td><td>0.0               </td><td>1.0               </td><td>2006.0            </td><td>          </td><td>               </td><td>34900.0           </td></tr>\n",
       "<tr><td>mean   </td><td>730.5            </td><td>56.897260273972606</td><td>          </td><td>70.04995836802665 </td><td>10516.828082191782</td><td>        </td><td>       </td><td>          </td><td>             </td><td>           </td><td>           </td><td>           </td><td>              </td><td>            </td><td>            </td><td>          </td><td>            </td><td>6.0993150684931505</td><td>5.575342465753424 </td><td>1971.267808219178 </td><td>1984.8657534246574</td><td>           </td><td>          </td><td>             </td><td>             </td><td>            </td><td>103.68526170798899</td><td>           </td><td>           </td><td>            </td><td>          </td><td>          </td><td>              </td><td>              </td><td>443.6397260273973</td><td>              </td><td>46.54931506849315 </td><td>567.2404109589041 </td><td>1057.4294520547944</td><td>         </td><td>           </td><td>            </td><td>            </td><td>1162.626712328767 </td><td>346.99246575342465</td><td>5.844520547945206</td><td>1515.463698630137</td><td>0.42534246575342466</td><td>0.057534246575342465</td><td>1.5650684931506849</td><td>0.38287671232876713</td><td>2.8664383561643834</td><td>1.0465753424657538</td><td>             </td><td>6.517808219178082 </td><td>            </td><td>0.613013698630137 </td><td>             </td><td>            </td><td>1978.5061638868744</td><td>              </td><td>1.7671232876712328</td><td>472.9801369863014 </td><td>            </td><td>            </td><td>            </td><td>94.2445205479452 </td><td>46.66027397260274</td><td>21.954109589041096</td><td>3.4095890410958902</td><td>15.060958904109588</td><td>2.758904109589041</td><td>        </td><td>       </td><td>             </td><td>43.489041095890414</td><td>6.321917808219178 </td><td>2007.8157534246575</td><td>          </td><td>               </td><td>180921.19589041095</td></tr>\n",
       "<tr><td>maxs   </td><td>1460.0           </td><td>190.0             </td><td>          </td><td>313.0             </td><td>215245.0          </td><td>        </td><td>       </td><td>          </td><td>             </td><td>           </td><td>           </td><td>           </td><td>              </td><td>            </td><td>            </td><td>          </td><td>            </td><td>10.0              </td><td>9.0               </td><td>2010.0            </td><td>2010.0            </td><td>           </td><td>          </td><td>             </td><td>             </td><td>            </td><td>1600.0            </td><td>           </td><td>           </td><td>            </td><td>          </td><td>          </td><td>              </td><td>              </td><td>5644.0           </td><td>              </td><td>1474.0            </td><td>2336.0            </td><td>6110.0            </td><td>         </td><td>           </td><td>            </td><td>            </td><td>4692.0            </td><td>2065.0            </td><td>572.0            </td><td>5642.0           </td><td>3.0                </td><td>2.0                 </td><td>3.0               </td><td>2.0                </td><td>8.0               </td><td>3.0               </td><td>             </td><td>14.0              </td><td>            </td><td>3.0               </td><td>             </td><td>            </td><td>2010.0            </td><td>              </td><td>4.0               </td><td>1418.0            </td><td>            </td><td>            </td><td>            </td><td>857.0            </td><td>547.0            </td><td>552.0             </td><td>508.0             </td><td>480.0             </td><td>738.0            </td><td>        </td><td>       </td><td>             </td><td>15500.0           </td><td>12.0              </td><td>2010.0            </td><td>          </td><td>               </td><td>755000.0          </td></tr>\n",
       "<tr><td>sigma  </td><td>421.6100093688479</td><td>42.300570993810425</td><td>          </td><td>24.284751774483208</td><td>9981.26493237915  </td><td>        </td><td>       </td><td>          </td><td>             </td><td>           </td><td>           </td><td>           </td><td>              </td><td>            </td><td>            </td><td>          </td><td>            </td><td>1.3829965467415934</td><td>1.1127993367127318</td><td>30.202904042525258</td><td>20.645406807709406</td><td>           </td><td>          </td><td>             </td><td>             </td><td>            </td><td>181.0662065872166 </td><td>           </td><td>           </td><td>            </td><td>          </td><td>          </td><td>              </td><td>              </td><td>456.0980908409277</td><td>              </td><td>161.31927280654173</td><td>441.86695529243417</td><td>438.7053244594708 </td><td>         </td><td>           </td><td>            </td><td>            </td><td>386.58773804107426</td><td>436.5284358862568 </td><td>48.62308143352019</td><td>525.4803834232025</td><td>0.5189106060898064 </td><td>0.23875264627921178 </td><td>0.5509158012954317</td><td>0.5028853810928913 </td><td>0.8157780441442284</td><td>0.2203381983840307</td><td>             </td><td>1.6253932905840505</td><td>            </td><td>0.6446663863122295</td><td>             </td><td>            </td><td>24.689724768590235</td><td>              </td><td>0.7473150101111093</td><td>213.80484145338042</td><td>            </td><td>            </td><td>            </td><td>125.3387943517241</td><td>66.25602767664971</td><td>61.11914860172858 </td><td>29.317330556781883</td><td>55.75741528187418 </td><td>40.17730694453018</td><td>        </td><td>       </td><td>             </td><td>496.12302445794415</td><td>2.7036262083595126</td><td>1.3280951205521074</td><td>          </td><td>               </td><td>79442.5028828866  </td></tr>\n",
       "<tr><td>zeros  </td><td>0                </td><td>0                 </td><td>          </td><td>0                 </td><td>0                 </td><td>        </td><td>       </td><td>          </td><td>             </td><td>           </td><td>           </td><td>           </td><td>              </td><td>            </td><td>            </td><td>          </td><td>            </td><td>0                 </td><td>0                 </td><td>0                 </td><td>0                 </td><td>           </td><td>          </td><td>             </td><td>             </td><td>            </td><td>861               </td><td>           </td><td>           </td><td>            </td><td>          </td><td>          </td><td>              </td><td>              </td><td>467              </td><td>              </td><td>1293              </td><td>118               </td><td>37                </td><td>         </td><td>           </td><td>            </td><td>            </td><td>0                 </td><td>829               </td><td>1434             </td><td>0                </td><td>856                </td><td>1378                </td><td>9                 </td><td>913                </td><td>6                 </td><td>1                 </td><td>             </td><td>0                 </td><td>            </td><td>690               </td><td>             </td><td>            </td><td>0                 </td><td>              </td><td>81                </td><td>81                </td><td>            </td><td>            </td><td>            </td><td>761              </td><td>656              </td><td>1252              </td><td>1436              </td><td>1344              </td><td>1453             </td><td>        </td><td>       </td><td>             </td><td>1408              </td><td>0                 </td><td>0                 </td><td>          </td><td>               </td><td>0                 </td></tr>\n",
       "<tr><td>missing</td><td>0                </td><td>0                 </td><td>0         </td><td>259               </td><td>0                 </td><td>0       </td><td>0      </td><td>0         </td><td>0            </td><td>0          </td><td>0          </td><td>0          </td><td>0             </td><td>0           </td><td>0           </td><td>0         </td><td>0           </td><td>0                 </td><td>0                 </td><td>0                 </td><td>0                 </td><td>0          </td><td>0         </td><td>0            </td><td>0            </td><td>0           </td><td>8                 </td><td>0          </td><td>0          </td><td>0           </td><td>0         </td><td>0         </td><td>0             </td><td>0             </td><td>0                </td><td>0             </td><td>0                 </td><td>0                 </td><td>0                 </td><td>0        </td><td>0          </td><td>0           </td><td>0           </td><td>0                 </td><td>0                 </td><td>0                </td><td>0                </td><td>0                  </td><td>0                   </td><td>0                 </td><td>0                  </td><td>0                 </td><td>0                 </td><td>0            </td><td>0                 </td><td>0           </td><td>0                 </td><td>0            </td><td>0           </td><td>81                </td><td>0             </td><td>0                 </td><td>0                 </td><td>0           </td><td>0           </td><td>0           </td><td>0                </td><td>0                </td><td>0                 </td><td>0                 </td><td>0                 </td><td>0                </td><td>0       </td><td>0      </td><td>0            </td><td>0                 </td><td>0                 </td><td>0                 </td><td>0         </td><td>0              </td><td>0                 </td></tr>\n",
       "<tr><td>0      </td><td>1.0              </td><td>60.0              </td><td>RL        </td><td>65.0              </td><td>8450.0            </td><td>Pave    </td><td>NA     </td><td>Reg       </td><td>Lvl          </td><td>AllPub     </td><td>Inside     </td><td>Gtl        </td><td>CollgCr       </td><td>Norm        </td><td>Norm        </td><td>1Fam      </td><td>2Story      </td><td>7.0               </td><td>5.0               </td><td>2003.0            </td><td>2003.0            </td><td>Gable      </td><td>CompShg   </td><td>VinylSd      </td><td>VinylSd      </td><td>BrkFace     </td><td>196.0             </td><td>Gd         </td><td>TA         </td><td>PConc       </td><td>Gd        </td><td>TA        </td><td>No            </td><td>GLQ           </td><td>706.0            </td><td>Unf           </td><td>0.0               </td><td>150.0             </td><td>856.0             </td><td>GasA     </td><td>Ex         </td><td>Y           </td><td>SBrkr       </td><td>856.0             </td><td>854.0             </td><td>0.0              </td><td>1710.0           </td><td>1.0                </td><td>0.0                 </td><td>2.0               </td><td>1.0                </td><td>3.0               </td><td>1.0               </td><td>Gd           </td><td>8.0               </td><td>Typ         </td><td>0.0               </td><td>NA           </td><td>Attchd      </td><td>2003.0            </td><td>RFn           </td><td>2.0               </td><td>548.0             </td><td>TA          </td><td>TA          </td><td>Y           </td><td>0.0              </td><td>61.0             </td><td>0.0               </td><td>0.0               </td><td>0.0               </td><td>0.0              </td><td>NA      </td><td>NA     </td><td>NA           </td><td>0.0               </td><td>2.0               </td><td>2008.0            </td><td>WD        </td><td>Normal         </td><td>208500.0          </td></tr>\n",
       "<tr><td>1      </td><td>2.0              </td><td>20.0              </td><td>RL        </td><td>80.0              </td><td>9600.0            </td><td>Pave    </td><td>NA     </td><td>Reg       </td><td>Lvl          </td><td>AllPub     </td><td>FR2        </td><td>Gtl        </td><td>Veenker       </td><td>Feedr       </td><td>Norm        </td><td>1Fam      </td><td>1Story      </td><td>6.0               </td><td>8.0               </td><td>1976.0            </td><td>1976.0            </td><td>Gable      </td><td>CompShg   </td><td>MetalSd      </td><td>MetalSd      </td><td>None        </td><td>0.0               </td><td>TA         </td><td>TA         </td><td>CBlock      </td><td>Gd        </td><td>TA        </td><td>Gd            </td><td>ALQ           </td><td>978.0            </td><td>Unf           </td><td>0.0               </td><td>284.0             </td><td>1262.0            </td><td>GasA     </td><td>Ex         </td><td>Y           </td><td>SBrkr       </td><td>1262.0            </td><td>0.0               </td><td>0.0              </td><td>1262.0           </td><td>0.0                </td><td>1.0                 </td><td>2.0               </td><td>0.0                </td><td>3.0               </td><td>1.0               </td><td>TA           </td><td>6.0               </td><td>Typ         </td><td>1.0               </td><td>TA           </td><td>Attchd      </td><td>1976.0            </td><td>RFn           </td><td>2.0               </td><td>460.0             </td><td>TA          </td><td>TA          </td><td>Y           </td><td>298.0            </td><td>0.0              </td><td>0.0               </td><td>0.0               </td><td>0.0               </td><td>0.0              </td><td>NA      </td><td>NA     </td><td>NA           </td><td>0.0               </td><td>5.0               </td><td>2007.0            </td><td>WD        </td><td>Normal         </td><td>181500.0          </td></tr>\n",
       "<tr><td>2      </td><td>3.0              </td><td>60.0              </td><td>RL        </td><td>68.0              </td><td>11250.0           </td><td>Pave    </td><td>NA     </td><td>IR1       </td><td>Lvl          </td><td>AllPub     </td><td>Inside     </td><td>Gtl        </td><td>CollgCr       </td><td>Norm        </td><td>Norm        </td><td>1Fam      </td><td>2Story      </td><td>7.0               </td><td>5.0               </td><td>2001.0            </td><td>2002.0            </td><td>Gable      </td><td>CompShg   </td><td>VinylSd      </td><td>VinylSd      </td><td>BrkFace     </td><td>162.0             </td><td>Gd         </td><td>TA         </td><td>PConc       </td><td>Gd        </td><td>TA        </td><td>Mn            </td><td>GLQ           </td><td>486.0            </td><td>Unf           </td><td>0.0               </td><td>434.0             </td><td>920.0             </td><td>GasA     </td><td>Ex         </td><td>Y           </td><td>SBrkr       </td><td>920.0             </td><td>866.0             </td><td>0.0              </td><td>1786.0           </td><td>1.0                </td><td>0.0                 </td><td>2.0               </td><td>1.0                </td><td>3.0               </td><td>1.0               </td><td>Gd           </td><td>6.0               </td><td>Typ         </td><td>1.0               </td><td>TA           </td><td>Attchd      </td><td>2001.0            </td><td>RFn           </td><td>2.0               </td><td>608.0             </td><td>TA          </td><td>TA          </td><td>Y           </td><td>0.0              </td><td>42.0             </td><td>0.0               </td><td>0.0               </td><td>0.0               </td><td>0.0              </td><td>NA      </td><td>NA     </td><td>NA           </td><td>0.0               </td><td>9.0               </td><td>2008.0            </td><td>WD        </td><td>Normal         </td><td>223500.0          </td></tr>\n",
       "<tr><td>3      </td><td>4.0              </td><td>70.0              </td><td>RL        </td><td>60.0              </td><td>9550.0            </td><td>Pave    </td><td>NA     </td><td>IR1       </td><td>Lvl          </td><td>AllPub     </td><td>Corner     </td><td>Gtl        </td><td>Crawfor       </td><td>Norm        </td><td>Norm        </td><td>1Fam      </td><td>2Story      </td><td>7.0               </td><td>5.0               </td><td>1915.0            </td><td>1970.0            </td><td>Gable      </td><td>CompShg   </td><td>Wd Sdng      </td><td>Wd Shng      </td><td>None        </td><td>0.0               </td><td>TA         </td><td>TA         </td><td>BrkTil      </td><td>TA        </td><td>Gd        </td><td>No            </td><td>ALQ           </td><td>216.0            </td><td>Unf           </td><td>0.0               </td><td>540.0             </td><td>756.0             </td><td>GasA     </td><td>Gd         </td><td>Y           </td><td>SBrkr       </td><td>961.0             </td><td>756.0             </td><td>0.0              </td><td>1717.0           </td><td>1.0                </td><td>0.0                 </td><td>1.0               </td><td>0.0                </td><td>3.0               </td><td>1.0               </td><td>Gd           </td><td>7.0               </td><td>Typ         </td><td>1.0               </td><td>Gd           </td><td>Detchd      </td><td>1998.0            </td><td>Unf           </td><td>3.0               </td><td>642.0             </td><td>TA          </td><td>TA          </td><td>Y           </td><td>0.0              </td><td>35.0             </td><td>272.0             </td><td>0.0               </td><td>0.0               </td><td>0.0              </td><td>NA      </td><td>NA     </td><td>NA           </td><td>0.0               </td><td>2.0               </td><td>2006.0            </td><td>WD        </td><td>Abnorml        </td><td>140000.0          </td></tr>\n",
       "<tr><td>4      </td><td>5.0              </td><td>60.0              </td><td>RL        </td><td>84.0              </td><td>14260.0           </td><td>Pave    </td><td>NA     </td><td>IR1       </td><td>Lvl          </td><td>AllPub     </td><td>FR2        </td><td>Gtl        </td><td>NoRidge       </td><td>Norm        </td><td>Norm        </td><td>1Fam      </td><td>2Story      </td><td>8.0               </td><td>5.0               </td><td>2000.0            </td><td>2000.0            </td><td>Gable      </td><td>CompShg   </td><td>VinylSd      </td><td>VinylSd      </td><td>BrkFace     </td><td>350.0             </td><td>Gd         </td><td>TA         </td><td>PConc       </td><td>Gd        </td><td>TA        </td><td>Av            </td><td>GLQ           </td><td>655.0            </td><td>Unf           </td><td>0.0               </td><td>490.0             </td><td>1145.0            </td><td>GasA     </td><td>Ex         </td><td>Y           </td><td>SBrkr       </td><td>1145.0            </td><td>1053.0            </td><td>0.0              </td><td>2198.0           </td><td>1.0                </td><td>0.0                 </td><td>2.0               </td><td>1.0                </td><td>4.0               </td><td>1.0               </td><td>Gd           </td><td>9.0               </td><td>Typ         </td><td>1.0               </td><td>TA           </td><td>Attchd      </td><td>2000.0            </td><td>RFn           </td><td>3.0               </td><td>836.0             </td><td>TA          </td><td>TA          </td><td>Y           </td><td>192.0            </td><td>84.0             </td><td>0.0               </td><td>0.0               </td><td>0.0               </td><td>0.0              </td><td>NA      </td><td>NA     </td><td>NA           </td><td>0.0               </td><td>12.0              </td><td>2008.0            </td><td>WD        </td><td>Normal         </td><td>250000.0          </td></tr>\n",
       "<tr><td>5      </td><td>6.0              </td><td>50.0              </td><td>RL        </td><td>85.0              </td><td>14115.0           </td><td>Pave    </td><td>NA     </td><td>IR1       </td><td>Lvl          </td><td>AllPub     </td><td>Inside     </td><td>Gtl        </td><td>Mitchel       </td><td>Norm        </td><td>Norm        </td><td>1Fam      </td><td>1.5Fin      </td><td>5.0               </td><td>5.0               </td><td>1993.0            </td><td>1995.0            </td><td>Gable      </td><td>CompShg   </td><td>VinylSd      </td><td>VinylSd      </td><td>None        </td><td>0.0               </td><td>TA         </td><td>TA         </td><td>Wood        </td><td>Gd        </td><td>TA        </td><td>No            </td><td>GLQ           </td><td>732.0            </td><td>Unf           </td><td>0.0               </td><td>64.0              </td><td>796.0             </td><td>GasA     </td><td>Ex         </td><td>Y           </td><td>SBrkr       </td><td>796.0             </td><td>566.0             </td><td>0.0              </td><td>1362.0           </td><td>1.0                </td><td>0.0                 </td><td>1.0               </td><td>1.0                </td><td>1.0               </td><td>1.0               </td><td>TA           </td><td>5.0               </td><td>Typ         </td><td>0.0               </td><td>NA           </td><td>Attchd      </td><td>1993.0            </td><td>Unf           </td><td>2.0               </td><td>480.0             </td><td>TA          </td><td>TA          </td><td>Y           </td><td>40.0             </td><td>30.0             </td><td>0.0               </td><td>320.0             </td><td>0.0               </td><td>0.0              </td><td>NA      </td><td>MnPrv  </td><td>Shed         </td><td>700.0             </td><td>10.0              </td><td>2009.0            </td><td>WD        </td><td>Normal         </td><td>143000.0          </td></tr>\n",
       "<tr><td>6      </td><td>7.0              </td><td>20.0              </td><td>RL        </td><td>75.0              </td><td>10084.0           </td><td>Pave    </td><td>NA     </td><td>Reg       </td><td>Lvl          </td><td>AllPub     </td><td>Inside     </td><td>Gtl        </td><td>Somerst       </td><td>Norm        </td><td>Norm        </td><td>1Fam      </td><td>1Story      </td><td>8.0               </td><td>5.0               </td><td>2004.0            </td><td>2005.0            </td><td>Gable      </td><td>CompShg   </td><td>VinylSd      </td><td>VinylSd      </td><td>Stone       </td><td>186.0             </td><td>Gd         </td><td>TA         </td><td>PConc       </td><td>Ex        </td><td>TA        </td><td>Av            </td><td>GLQ           </td><td>1369.0           </td><td>Unf           </td><td>0.0               </td><td>317.0             </td><td>1686.0            </td><td>GasA     </td><td>Ex         </td><td>Y           </td><td>SBrkr       </td><td>1694.0            </td><td>0.0               </td><td>0.0              </td><td>1694.0           </td><td>1.0                </td><td>0.0                 </td><td>2.0               </td><td>0.0                </td><td>3.0               </td><td>1.0               </td><td>Gd           </td><td>7.0               </td><td>Typ         </td><td>1.0               </td><td>Gd           </td><td>Attchd      </td><td>2004.0            </td><td>RFn           </td><td>2.0               </td><td>636.0             </td><td>TA          </td><td>TA          </td><td>Y           </td><td>255.0            </td><td>57.0             </td><td>0.0               </td><td>0.0               </td><td>0.0               </td><td>0.0              </td><td>NA      </td><td>NA     </td><td>NA           </td><td>0.0               </td><td>8.0               </td><td>2007.0            </td><td>WD        </td><td>Normal         </td><td>307000.0          </td></tr>\n",
       "<tr><td>7      </td><td>8.0              </td><td>60.0              </td><td>RL        </td><td>nan               </td><td>10382.0           </td><td>Pave    </td><td>NA     </td><td>IR1       </td><td>Lvl          </td><td>AllPub     </td><td>Corner     </td><td>Gtl        </td><td>NWAmes        </td><td>PosN        </td><td>Norm        </td><td>1Fam      </td><td>2Story      </td><td>7.0               </td><td>6.0               </td><td>1973.0            </td><td>1973.0            </td><td>Gable      </td><td>CompShg   </td><td>HdBoard      </td><td>HdBoard      </td><td>Stone       </td><td>240.0             </td><td>TA         </td><td>TA         </td><td>CBlock      </td><td>Gd        </td><td>TA        </td><td>Mn            </td><td>ALQ           </td><td>859.0            </td><td>BLQ           </td><td>32.0              </td><td>216.0             </td><td>1107.0            </td><td>GasA     </td><td>Ex         </td><td>Y           </td><td>SBrkr       </td><td>1107.0            </td><td>983.0             </td><td>0.0              </td><td>2090.0           </td><td>1.0                </td><td>0.0                 </td><td>2.0               </td><td>1.0                </td><td>3.0               </td><td>1.0               </td><td>TA           </td><td>7.0               </td><td>Typ         </td><td>2.0               </td><td>TA           </td><td>Attchd      </td><td>1973.0            </td><td>RFn           </td><td>2.0               </td><td>484.0             </td><td>TA          </td><td>TA          </td><td>Y           </td><td>235.0            </td><td>204.0            </td><td>228.0             </td><td>0.0               </td><td>0.0               </td><td>0.0              </td><td>NA      </td><td>NA     </td><td>Shed         </td><td>350.0             </td><td>11.0              </td><td>2009.0            </td><td>WD        </td><td>Normal         </td><td>200000.0          </td></tr>\n",
       "<tr><td>8      </td><td>9.0              </td><td>50.0              </td><td>RM        </td><td>51.0              </td><td>6120.0            </td><td>Pave    </td><td>NA     </td><td>Reg       </td><td>Lvl          </td><td>AllPub     </td><td>Inside     </td><td>Gtl        </td><td>OldTown       </td><td>Artery      </td><td>Norm        </td><td>1Fam      </td><td>1.5Fin      </td><td>7.0               </td><td>5.0               </td><td>1931.0            </td><td>1950.0            </td><td>Gable      </td><td>CompShg   </td><td>BrkFace      </td><td>Wd Shng      </td><td>None        </td><td>0.0               </td><td>TA         </td><td>TA         </td><td>BrkTil      </td><td>TA        </td><td>TA        </td><td>No            </td><td>Unf           </td><td>0.0              </td><td>Unf           </td><td>0.0               </td><td>952.0             </td><td>952.0             </td><td>GasA     </td><td>Gd         </td><td>Y           </td><td>FuseF       </td><td>1022.0            </td><td>752.0             </td><td>0.0              </td><td>1774.0           </td><td>0.0                </td><td>0.0                 </td><td>2.0               </td><td>0.0                </td><td>2.0               </td><td>2.0               </td><td>TA           </td><td>8.0               </td><td>Min1        </td><td>2.0               </td><td>TA           </td><td>Detchd      </td><td>1931.0            </td><td>Unf           </td><td>2.0               </td><td>468.0             </td><td>Fa          </td><td>TA          </td><td>Y           </td><td>90.0             </td><td>0.0              </td><td>205.0             </td><td>0.0               </td><td>0.0               </td><td>0.0              </td><td>NA      </td><td>NA     </td><td>NA           </td><td>0.0               </td><td>4.0               </td><td>2008.0            </td><td>WD        </td><td>Abnorml        </td><td>129900.0          </td></tr>\n",
       "<tr><td>9      </td><td>10.0             </td><td>190.0             </td><td>RL        </td><td>50.0              </td><td>7420.0            </td><td>Pave    </td><td>NA     </td><td>Reg       </td><td>Lvl          </td><td>AllPub     </td><td>Corner     </td><td>Gtl        </td><td>BrkSide       </td><td>Artery      </td><td>Artery      </td><td>2fmCon    </td><td>1.5Unf      </td><td>5.0               </td><td>6.0               </td><td>1939.0            </td><td>1950.0            </td><td>Gable      </td><td>CompShg   </td><td>MetalSd      </td><td>MetalSd      </td><td>None        </td><td>0.0               </td><td>TA         </td><td>TA         </td><td>BrkTil      </td><td>TA        </td><td>TA        </td><td>No            </td><td>GLQ           </td><td>851.0            </td><td>Unf           </td><td>0.0               </td><td>140.0             </td><td>991.0             </td><td>GasA     </td><td>Ex         </td><td>Y           </td><td>SBrkr       </td><td>1077.0            </td><td>0.0               </td><td>0.0              </td><td>1077.0           </td><td>1.0                </td><td>0.0                 </td><td>1.0               </td><td>0.0                </td><td>2.0               </td><td>2.0               </td><td>TA           </td><td>5.0               </td><td>Typ         </td><td>2.0               </td><td>TA           </td><td>Attchd      </td><td>1939.0            </td><td>RFn           </td><td>1.0               </td><td>205.0             </td><td>Gd          </td><td>TA          </td><td>Y           </td><td>0.0              </td><td>4.0              </td><td>0.0               </td><td>0.0               </td><td>0.0               </td><td>0.0              </td><td>NA      </td><td>NA     </td><td>NA           </td><td>0.0               </td><td>1.0               </td><td>2008.0            </td><td>WD        </td><td>Normal         </td><td>118000.0          </td></tr>\n",
       "</tbody>\n",
       "</table>"
      ]
     },
     "metadata": {},
     "output_type": "display_data"
    }
   ],
   "source": [
    "#describe dataset\n",
    "df.describe(chunk_summary=True)"
   ]
  },
  {
   "cell_type": "code",
   "execution_count": 7,
   "metadata": {},
   "outputs": [],
   "source": [
    "# split data in train and test\n",
    "train, test = df.split_frame(ratios=[0.8], seed = 1)"
   ]
  },
  {
   "cell_type": "code",
   "execution_count": 8,
   "metadata": {},
   "outputs": [],
   "source": [
    "#automl\n",
    "aml = H2OAutoML(max_models =25,\n",
    "                balance_classes=True,\n",
    "\t\tseed =1)"
   ]
  },
  {
   "cell_type": "code",
   "execution_count": 9,
   "metadata": {},
   "outputs": [
    {
     "name": "stdout",
     "output_type": "stream",
     "text": [
      "AutoML progress: |\n",
      "04:47:41.983: AutoML: XGBoost is not available; skipping it.\n",
      "\n",
      "███████████████\n",
      "04:48:10.158: DeepLearning_1_AutoML_20220930_044741 [DeepLearning def_1] failed: water.exceptions.H2OModelBuilderIllegalArgumentException: Illegal argument(s) for DeepLearning model: DeepLearning_1_AutoML_20220930_044741_cv_1.  Details: ERRR on field: _balance_classes: balance_classes requires classification.\n",
      "\n",
      "\n",
      "█████████████████████████████████████████| 100%\n"
     ]
    }
   ],
   "source": [
    "# start training\n",
    "aml.train(training_frame = train, y = 'SalePrice')"
   ]
  },
  {
   "cell_type": "code",
   "execution_count": 10,
   "metadata": {},
   "outputs": [
    {
     "data": {
      "text/html": [
       "<table>\n",
       "<thead>\n",
       "<tr><th>model_id                                           </th><th style=\"text-align: right;\">  mean_residual_deviance</th><th style=\"text-align: right;\">   rmse</th><th style=\"text-align: right;\">        mse</th><th style=\"text-align: right;\">    mae</th><th style=\"text-align: right;\">   rmsle</th></tr>\n",
       "</thead>\n",
       "<tbody>\n",
       "<tr><td>StackedEnsemble_AllModels_AutoML_20220930_044741   </td><td style=\"text-align: right;\">             7.59795e+08</td><td style=\"text-align: right;\">27564.4</td><td style=\"text-align: right;\">7.59795e+08</td><td style=\"text-align: right;\">15809.4</td><td style=\"text-align: right;\">0.131267</td></tr>\n",
       "<tr><td>GBM_grid__1_AutoML_20220930_044741_model_8         </td><td style=\"text-align: right;\">             7.64551e+08</td><td style=\"text-align: right;\">27650.5</td><td style=\"text-align: right;\">7.64551e+08</td><td style=\"text-align: right;\">16220.7</td><td style=\"text-align: right;\">0.134128</td></tr>\n",
       "<tr><td>GBM_3_AutoML_20220930_044741                       </td><td style=\"text-align: right;\">             7.73719e+08</td><td style=\"text-align: right;\">27815.8</td><td style=\"text-align: right;\">7.73719e+08</td><td style=\"text-align: right;\">16677.9</td><td style=\"text-align: right;\">0.137481</td></tr>\n",
       "<tr><td>StackedEnsemble_BestOfFamily_AutoML_20220930_044741</td><td style=\"text-align: right;\">             7.82606e+08</td><td style=\"text-align: right;\">27975.1</td><td style=\"text-align: right;\">7.82606e+08</td><td style=\"text-align: right;\">16218  </td><td style=\"text-align: right;\">0.133196</td></tr>\n",
       "<tr><td>GBM_4_AutoML_20220930_044741                       </td><td style=\"text-align: right;\">             7.88733e+08</td><td style=\"text-align: right;\">28084.4</td><td style=\"text-align: right;\">7.88733e+08</td><td style=\"text-align: right;\">16603.1</td><td style=\"text-align: right;\">0.137842</td></tr>\n",
       "<tr><td>GBM_grid__1_AutoML_20220930_044741_model_2         </td><td style=\"text-align: right;\">             8.19522e+08</td><td style=\"text-align: right;\">28627.3</td><td style=\"text-align: right;\">8.19522e+08</td><td style=\"text-align: right;\">16556.6</td><td style=\"text-align: right;\">0.138815</td></tr>\n",
       "<tr><td>GBM_grid__1_AutoML_20220930_044741_model_4         </td><td style=\"text-align: right;\">             8.22223e+08</td><td style=\"text-align: right;\">28674.4</td><td style=\"text-align: right;\">8.22223e+08</td><td style=\"text-align: right;\">17000  </td><td style=\"text-align: right;\">0.138807</td></tr>\n",
       "<tr><td>GBM_grid__1_AutoML_20220930_044741_model_1         </td><td style=\"text-align: right;\">             8.23387e+08</td><td style=\"text-align: right;\">28694.7</td><td style=\"text-align: right;\">8.23387e+08</td><td style=\"text-align: right;\">16744.1</td><td style=\"text-align: right;\">0.139696</td></tr>\n",
       "<tr><td>GBM_2_AutoML_20220930_044741                       </td><td style=\"text-align: right;\">             8.24356e+08</td><td style=\"text-align: right;\">28711.6</td><td style=\"text-align: right;\">8.24356e+08</td><td style=\"text-align: right;\">16822.5</td><td style=\"text-align: right;\">0.138528</td></tr>\n",
       "<tr><td>GBM_1_AutoML_20220930_044741                       </td><td style=\"text-align: right;\">             8.5901e+08 </td><td style=\"text-align: right;\">29308.9</td><td style=\"text-align: right;\">8.5901e+08 </td><td style=\"text-align: right;\">16887.7</td><td style=\"text-align: right;\">0.136619</td></tr>\n",
       "<tr><td>GBM_grid__1_AutoML_20220930_044741_model_6         </td><td style=\"text-align: right;\">             8.62669e+08</td><td style=\"text-align: right;\">29371.2</td><td style=\"text-align: right;\">8.62669e+08</td><td style=\"text-align: right;\">16952.3</td><td style=\"text-align: right;\">0.142889</td></tr>\n",
       "<tr><td>DRF_1_AutoML_20220930_044741                       </td><td style=\"text-align: right;\">             9.23454e+08</td><td style=\"text-align: right;\">30388.4</td><td style=\"text-align: right;\">9.23454e+08</td><td style=\"text-align: right;\">17862.8</td><td style=\"text-align: right;\">0.147877</td></tr>\n",
       "<tr><td>GBM_grid__1_AutoML_20220930_044741_model_3         </td><td style=\"text-align: right;\">             9.40779e+08</td><td style=\"text-align: right;\">30672.1</td><td style=\"text-align: right;\">9.40779e+08</td><td style=\"text-align: right;\">17809.5</td><td style=\"text-align: right;\">0.146475</td></tr>\n",
       "<tr><td>GBM_grid__1_AutoML_20220930_044741_model_9         </td><td style=\"text-align: right;\">             9.72473e+08</td><td style=\"text-align: right;\">31184.5</td><td style=\"text-align: right;\">9.72473e+08</td><td style=\"text-align: right;\">18244.5</td><td style=\"text-align: right;\">0.149932</td></tr>\n",
       "<tr><td>GBM_grid__1_AutoML_20220930_044741_model_5         </td><td style=\"text-align: right;\">             9.84864e+08</td><td style=\"text-align: right;\">31382.5</td><td style=\"text-align: right;\">9.84864e+08</td><td style=\"text-align: right;\">19109  </td><td style=\"text-align: right;\">0.153674</td></tr>\n",
       "<tr><td>GBM_5_AutoML_20220930_044741                       </td><td style=\"text-align: right;\">             1.00539e+09</td><td style=\"text-align: right;\">31707.8</td><td style=\"text-align: right;\">1.00539e+09</td><td style=\"text-align: right;\">19093.5</td><td style=\"text-align: right;\">0.153053</td></tr>\n",
       "<tr><td>GBM_grid__1_AutoML_20220930_044741_model_7         </td><td style=\"text-align: right;\">             1.01197e+09</td><td style=\"text-align: right;\">31811.4</td><td style=\"text-align: right;\">1.01197e+09</td><td style=\"text-align: right;\">19164.1</td><td style=\"text-align: right;\">0.155875</td></tr>\n",
       "<tr><td>XRT_1_AutoML_20220930_044741                       </td><td style=\"text-align: right;\">             1.02728e+09</td><td style=\"text-align: right;\">32051.2</td><td style=\"text-align: right;\">1.02728e+09</td><td style=\"text-align: right;\">17924.1</td><td style=\"text-align: right;\">0.153326</td></tr>\n",
       "<tr><td>GLM_1_AutoML_20220930_044741                       </td><td style=\"text-align: right;\">             5.99505e+09</td><td style=\"text-align: right;\">77427.7</td><td style=\"text-align: right;\">5.99505e+09</td><td style=\"text-align: right;\">56737  </td><td style=\"text-align: right;\">0.405004</td></tr>\n",
       "</tbody>\n",
       "</table>"
      ]
     },
     "metadata": {},
     "output_type": "display_data"
    },
    {
     "data": {
      "text/plain": []
     },
     "execution_count": 10,
     "metadata": {},
     "output_type": "execute_result"
    }
   ],
   "source": [
    "#evaluation\n",
    "lb = aml.leaderboard\n",
    "lb.head(rows=lb.nrows)"
   ]
  },
  {
   "cell_type": "code",
   "execution_count": null,
   "metadata": {},
   "outputs": [],
   "source": [
    "# my leader board frame could be ROC AUC, Precision, Recall, F1, Accuracy, Gains/Lift. Otherwise the best cross validation model would be chose\n",
    "aml.train(training_frame = train,\n",
    "          y = 'y',\n",
    "\t  leaderboard_frame = 'RMSE') #you can set this or not"
   ]
  },
  {
   "cell_type": "code",
   "execution_count": 11,
   "metadata": {},
   "outputs": [
    {
     "name": "stdout",
     "output_type": "stream",
     "text": [
      "Model Details\n",
      "=============\n",
      "H2OStackedEnsembleEstimator :  Stacked Ensemble\n",
      "Model Key:  StackedEnsemble_AllModels_AutoML_20220930_044741\n",
      "\n",
      "No model summary for this model\n",
      "\n",
      "ModelMetricsRegressionGLM: stackedensemble\n",
      "** Reported on train data. **\n",
      "\n",
      "MSE: 91926332.57957962\n",
      "RMSE: 9587.822097826995\n",
      "MAE: 6746.864795448326\n",
      "RMSLE: 0.058318308416208095\n",
      "R^2: 0.9846419995817323\n",
      "Mean Residual Deviance: 91926332.57957962\n",
      "Null degrees of freedom: 1164\n",
      "Residual degrees of freedom: 1159\n",
      "Null deviance: 6973184954977.986\n",
      "Residual deviance: 107094177455.21027\n",
      "AIC: 24682.14704722688\n",
      "\n",
      "ModelMetricsRegressionGLM: stackedensemble\n",
      "** Reported on cross-validation data. **\n",
      "\n",
      "MSE: 759794668.5657021\n",
      "RMSE: 27564.37317563565\n",
      "MAE: 15809.352086771398\n",
      "RMSLE: 0.13126744510938418\n",
      "R^2: 0.8730621954538653\n",
      "Mean Residual Deviance: 759794668.5657021\n",
      "Null degrees of freedom: 1164\n",
      "Residual degrees of freedom: 1159\n",
      "Null deviance: 6983730603085.642\n",
      "Residual deviance: 885160788879.043\n",
      "AIC: 27142.697763165637\n",
      "\n"
     ]
    }
   ],
   "source": [
    "# best model\n",
    "best_model = aml.leader\n",
    "print(best_model)"
   ]
  },
  {
   "cell_type": "code",
   "execution_count": 12,
   "metadata": {},
   "outputs": [],
   "source": [
    "#saving the model\n",
    "model_path = h2o.save_model(model = best_model, path = '../model', force = True)"
   ]
  },
  {
   "cell_type": "code",
   "execution_count": 41,
   "metadata": {},
   "outputs": [],
   "source": [
    "#loading the model\n",
    "model = h2o.load_model(path = '../model/StackedEnsemble_AllModels_AutoML_20220930_042812')"
   ]
  },
  {
   "cell_type": "code",
   "execution_count": 42,
   "metadata": {},
   "outputs": [
    {
     "name": "stdout",
     "output_type": "stream",
     "text": [
      "stackedensemble prediction progress: |████████████████████████████████████| 100%\n"
     ]
    },
    {
     "name": "stderr",
     "output_type": "stream",
     "text": [
      "/Users/hectorcozar/Documents/GitHub/house_prizes_kaggle_python/venv/lib/python3.9/site-packages/h2o/job.py:70: UserWarning: Test/Validation dataset column 'MSZoning' has levels not trained on: [NA]\n",
      "  warnings.warn(w)\n",
      "/Users/hectorcozar/Documents/GitHub/house_prizes_kaggle_python/venv/lib/python3.9/site-packages/h2o/job.py:70: UserWarning: Test/Validation dataset column 'Utilities' has levels not trained on: [NA]\n",
      "  warnings.warn(w)\n",
      "/Users/hectorcozar/Documents/GitHub/house_prizes_kaggle_python/venv/lib/python3.9/site-packages/h2o/job.py:70: UserWarning: Test/Validation dataset column 'Exterior1st' has levels not trained on: [NA]\n",
      "  warnings.warn(w)\n",
      "/Users/hectorcozar/Documents/GitHub/house_prizes_kaggle_python/venv/lib/python3.9/site-packages/h2o/job.py:70: UserWarning: Test/Validation dataset column 'Exterior2nd' has levels not trained on: [NA]\n",
      "  warnings.warn(w)\n",
      "/Users/hectorcozar/Documents/GitHub/house_prizes_kaggle_python/venv/lib/python3.9/site-packages/h2o/job.py:70: UserWarning: Test/Validation dataset column 'KitchenQual' has levels not trained on: [NA]\n",
      "  warnings.warn(w)\n",
      "/Users/hectorcozar/Documents/GitHub/house_prizes_kaggle_python/venv/lib/python3.9/site-packages/h2o/job.py:70: UserWarning: Test/Validation dataset column 'Functional' has levels not trained on: [NA]\n",
      "  warnings.warn(w)\n",
      "/Users/hectorcozar/Documents/GitHub/house_prizes_kaggle_python/venv/lib/python3.9/site-packages/h2o/job.py:70: UserWarning: Test/Validation dataset column 'SaleType' has levels not trained on: [NA]\n",
      "  warnings.warn(w)\n"
     ]
    }
   ],
   "source": [
    "#predict and getting data out from h2o\n",
    "predictions = h2o.as_list(model.predict(df_sample))"
   ]
  },
  {
   "cell_type": "code",
   "execution_count": 45,
   "metadata": {},
   "outputs": [
    {
     "name": "stderr",
     "output_type": "stream",
     "text": [
      "/var/folders/yj/nrb4536x26s8lfxkz_6kzf100000gn/T/ipykernel_51552/1621550077.py:2: DeprecationWarning: Deprecated, use ``h2o.cluster().shutdown()``.\n",
      "  h2o.shutdown()\n"
     ]
    }
   ],
   "source": [
    "#finishing h2o\n",
    "h2o.shutdown()"
   ]
  },
  {
   "cell_type": "code",
   "execution_count": 72,
   "metadata": {},
   "outputs": [],
   "source": [
    "#merging predictions with the full data set\n",
    "submission = pd.merge(test['Id'],\n",
    "                          predictions,\n",
    "                          left_index = True,\n",
    "                          right_index = True)\n",
    "submission.rename(columns = {'predict': 'SalePrice'}, inplace = True)"
   ]
  },
  {
   "cell_type": "code",
   "execution_count": 77,
   "metadata": {},
   "outputs": [],
   "source": [
    "# save to csv\n",
    "submission.to_csv('../data/submission_' + 'StackedEnsemble_AllModels_AutoML_20220930_042812.csv',\n",
    "                header = True, index = False)\n",
    "\n",
    "# Score of 0.12868"
   ]
  }
 ],
 "metadata": {
  "kernelspec": {
   "display_name": "Python 3.9.12 ('venv': venv)",
   "language": "python",
   "name": "python3"
  },
  "language_info": {
   "codemirror_mode": {
    "name": "ipython",
    "version": 3
   },
   "file_extension": ".py",
   "mimetype": "text/x-python",
   "name": "python",
   "nbconvert_exporter": "python",
   "pygments_lexer": "ipython3",
   "version": "3.9.12"
  },
  "orig_nbformat": 4,
  "vscode": {
   "interpreter": {
    "hash": "d6c31df387a82a5100d8b8a1c9ab66134570f5e1392e7f0a8a822f81fc8c1365"
   }
  }
 },
 "nbformat": 4,
 "nbformat_minor": 2
}
